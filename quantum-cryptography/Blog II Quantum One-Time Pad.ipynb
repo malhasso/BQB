{
 "cells": [
  {
   "cell_type": "code",
   "execution_count": 118,
   "id": "6a413cf9",
   "metadata": {},
   "outputs": [],
   "source": [
    "from qiskit.circuit import QuantumCircuit, QuantumRegister, ClassicalRegister\n",
    "from qiskit.circuit.classical.expr import Var, Value, cast, equal"
   ]
  },
  {
   "cell_type": "code",
   "execution_count": null,
   "id": "fd412087",
   "metadata": {},
   "outputs": [
    {
     "data": {
      "image/png": "[encoded data removed]",
      "text/plain": [
       "<Figure size 436.286x117.056 with 1 Axes>"
      ]
     },
     "metadata": {},
     "output_type": "display_data"
    }
   ],
   "source": [
    "secret_key = 1\n",
    "\n",
    "qc = QuantumCircuit(1)\n",
    "qc.add_var(\"key\", secret_key)\n",
    "key = qc.get_var(\"key\")\n",
    "cond = equal(key, 1)\n",
    "\n",
    "# Alice\n",
    "with qc.if_test(cond):\n",
    "    qc.x(0)\n",
    "\n",
    "# Bob\n",
    "with qc.if_test(cond):\n",
    "    qc.x(0)\n",
    "\n",
    "\n",
    "fig = qc.draw(output='mpl')\n",
    "fig.text(.3, 0.8, \"Alice\", fontsize=12, color='black')\n",
    "fig.text(.8, 0.8, \"Bob\", fontsize=12, color='black')\n",
    "ax = fig.axes[0]\n",
    "ax.axvline(x=1.125, color='black', linestyle='--', linewidth=1.8,)\n",
    "\n",
    "display(fig)\n",
    "fig.savefig(f\"./Blog II Figures/circ1.png\")"
   ]
  },
  {
   "cell_type": "code",
   "execution_count": null,
   "id": "acf50f87",
   "metadata": {},
   "outputs": [
    {
     "data": {
      "image/png": "[encoded data removed]",
      "text/plain": [
       "<Figure size 1105.17x117.056 with 1 Axes>"
      ]
     },
     "metadata": {},
     "output_type": "display_data"
    }
   ],
   "source": [
    "secret_key = (0, 1)\n",
    "\n",
    "qc = QuantumCircuit(1)\n",
    "qc.add_var(\"key_0\", secret_key[0])\n",
    "qc.add_var(\"key_1\", secret_key[1])\n",
    "key_0 = qc.get_var(\"key_0\")\n",
    "key_1 = qc.get_var(\"key_1\")\n",
    "cond_0 = equal(key_0, 1)\n",
    "cond_1 = equal(key_1, 1)\n",
    "\n",
    "# Alice\n",
    "with qc.if_test(cond_0):\n",
    "    qc.x(0)\n",
    "\n",
    "with qc.if_test(cond_1):\n",
    "    qc.z(0)\n",
    "\n",
    "# Bob\n",
    "with qc.if_test(cond_1):\n",
    "    qc.z(0)\n",
    "\n",
    "with qc.if_test(cond_0):\n",
    "    qc.x(0)\n",
    "\n",
    "\n",
    "fig = qc.draw(output='mpl')\n",
    "fig.text(.2, 0.8, \"Alice\", fontsize=12, color='black')\n",
    "fig.text(.85, 0.8, \"Bob\", fontsize=12, color='black')\n",
    "ax = fig.axes[0]\n",
    "ax.axvline(x=5.125, color='black', linestyle='--', linewidth=1.8,)\n",
    "\n",
    "display(fig)\n",
    "fig.savefig(f\"./Blog II Figures/circ2.png\")"
   ]
  }
 ],
 "metadata": {
  "kernelspec": {
   "display_name": ".venv",
   "language": "python",
   "name": "python3"
  },
  "language_info": {
   "codemirror_mode": {
    "name": "ipython",
    "version": 3
   },
   "file_extension": ".py",
   "mimetype": "text/x-python",
   "name": "python",
   "nbconvert_exporter": "python",
   "pygments_lexer": "ipython3",
   "version": "3.11.9"
  }
 },
 "nbformat": 4,
 "nbformat_minor": 5
}
